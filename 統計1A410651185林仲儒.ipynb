{
  "nbformat": 4,
  "nbformat_minor": 0,
  "metadata": {
    "colab": {
      "name": "統計1A410651185林仲儒.ipynb",
      "provenance": [],
      "collapsed_sections": [],
      "authorship_tag": "ABX9TyN+pwrwUhgCzf3h/0BqNc5G",
      "include_colab_link": true
    },
    "kernelspec": {
      "name": "python3",
      "display_name": "Python 3"
    },
    "language_info": {
      "name": "python"
    }
  },
  "cells": [
    {
      "cell_type": "markdown",
      "metadata": {
        "id": "view-in-github",
        "colab_type": "text"
      },
      "source": [
        "<a href=\"https://colab.research.google.com/github/LINRU0209/Introduction-to-Computers/blob/main/%E7%B5%B1%E8%A8%881A410651185%E6%9E%97%E4%BB%B2%E5%84%92.ipynb\" target=\"_parent\"><img src=\"https://colab.research.google.com/assets/colab-badge.svg\" alt=\"Open In Colab\"/></a>"
      ]
    },
    {
      "cell_type": "code",
      "execution_count": null,
      "metadata": {
        "colab": {
          "base_uri": "https://localhost:8080/"
        },
        "id": "myxEr3071ExT",
        "outputId": "e1fba564-2ce6-489e-dec0-98f89c658401"
      },
      "outputs": [
        {
          "output_type": "stream",
          "name": "stdout",
          "text": [
            "消費者身上有的錢150\n",
            "可購買手機\n"
          ]
        }
      ],
      "source": [
        "money = int(input(\"消費者身上有的錢\"))\n",
        "if(money < 100):\n",
        "  print(\"金額不足\")\n",
        "if(100<=money<200):\n",
        "  print(\"可購買手機\")\n",
        "if(200<=money<300):\n",
        "  print(\"可購買平板\")\n",
        "if(300<=money<400):\n",
        "  print(\"可購買電腦\")"
      ]
    }
  ]
}